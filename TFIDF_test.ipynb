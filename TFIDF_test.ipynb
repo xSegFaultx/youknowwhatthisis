{
 "cells": [
  {
   "cell_type": "markdown",
   "id": "5818f613",
   "metadata": {},
   "source": [
    "# TFIDF K-Means clustering on test data"
   ]
  },
  {
   "cell_type": "markdown",
   "id": "96bb4195",
   "metadata": {},
   "source": [
    "Test K-Means clustering on 20newsgroups dataset. Tokens are vectorized using TF-IDF"
   ]
  },
  {
   "cell_type": "code",
   "execution_count": 34,
   "id": "ff497ea1",
   "metadata": {},
   "outputs": [],
   "source": [
    "# all imports go here\n",
    "from sklearn.datasets import fetch_20newsgroups\n",
    "from sklearn.feature_extraction.text import TfidfVectorizer\n",
    "from sklearn.cluster import KMeans\n",
    "from sklearn.metrics import f1_score\n",
    "\n",
    "import numpy as np\n",
    "import pandas as pd\n",
    "\n",
    "import re\n",
    "import nltk\n",
    "from nltk.corpus import stopwords\n",
    "\n",
    "import matplotlib.pyplot as plt\n",
    "import matplotlib.cm as cm"
   ]
  },
  {
   "cell_type": "markdown",
   "id": "58337bae",
   "metadata": {},
   "source": [
    "First, load in our dataset. For testing purposes, I will only use the technology, religion and sport category from the 20newsgroups dataset"
   ]
  },
  {
   "cell_type": "code",
   "execution_count": 2,
   "id": "cd10149e",
   "metadata": {},
   "outputs": [],
   "source": [
    "categories = ['comp.graphics', 'comp.os.ms-windows.misc', 'rec.sport.baseball', 'rec.sport.hockey', \n",
    "              'alt.atheism', 'soc.religion.christian']\n",
    "dataset = fetch_20newsgroups(subset='train', categories=categories, shuffle=True, remove=('headers', 'footers', 'quotes'))"
   ]
  },
  {
   "cell_type": "markdown",
   "id": "b27d82ba",
   "metadata": {},
   "source": [
    "Peek dataset"
   ]
  },
  {
   "cell_type": "code",
   "execution_count": 3,
   "id": "288f77d7",
   "metadata": {},
   "outputs": [
    {
     "name": "stdout",
     "output_type": "stream",
     "text": [
      "Sample 0:\n",
      "\n",
      "They tried their best not to show it, believe me. I'm surprised they\n",
      "couldn't find a sprint car race (mini cars through pigpens, indeed!)\n",
      "on short notice.\n",
      "\n",
      "George\n",
      "\n",
      "Lable 0: 4 - rec.sport.hockey\n",
      "-----------------------------------------------------------------\n",
      "\n",
      "Sample 1:\n",
      "\n",
      "Stankiewicz?  I doubt it.\n",
      "\n",
      "Koufax was one of two Jewish HOFs: the other is Hank Greenberg.\n",
      "\n",
      "Other good players: Buddy Myer, Johnny Kling, Norm and Larry Sherry,\n",
      "Ken Holtzman, Saul Rogovin, Ed Reulbach.  \n",
      "\n",
      "There have been over 150 Jewish major leaguers.  A few years ago there\n",
      "was an article about someone who keeps track of this in Spy magazine;\n",
      "the article was entitled \"Jews on First,\" of course.\n",
      "\n",
      "There have also been at least two books on the subject.\n",
      "\n",
      "Lable 1: 3 - rec.sport.baseball\n",
      "-----------------------------------------------------------------\n",
      "\n",
      "Sample 2:\n",
      "\n",
      "[deletia- and so on]\n",
      "\n",
      "I seem to have been rather unclear.\n",
      "\n",
      "What I was asking is this:\n",
      "\n",
      "Please show me that the most effective substance-absure recovery\n",
      "programs involve meetinsg peoples' spiritual needs, rather than\n",
      "merely attempting to fill peoples' spiritual needs as percieved\n",
      "by the people, A.A, S.R.C. regulars, or snoopy. This will probably\n",
      "involve defining \"spritual needs\" (is it not that clear) and\n",
      "showing that such things exist and how they can be filled.\n",
      "\n",
      "Annother tack you might take is to say that \"fulfilling spiritual\n",
      "needs\" means \"acknowledging a \"higher power\" of some sort, then\n",
      "show that systems that do require this, work better than otherwise\n",
      "identical systems that do not. A correlation here would help you,\n",
      "but as you point out this might just be demonstrating swapping\n",
      "one crutch for annother. (however, I do feel that religion is\n",
      "usually a better crutch than alchohol, as it is not usually\n",
      "poisonous! :) )\n",
      "\n",
      "I hope with that clarification, my question will be answerable. I actually\n",
      "did know about the 12 step program, its the question of what it does,\n",
      "rather than what it tries to do, that makes a difference to me.\n",
      "---\n",
      "\t\t\t- Dan Johnson\n",
      "And God said \"Jeeze, this is dull\"... and it *WAS* dull. Genesis 0:0\n",
      "\n",
      "Lable 2: 5 - soc.religion.christian\n",
      "-----------------------------------------------------------------\n",
      "\n"
     ]
    }
   ],
   "source": [
    "for i in range(3):\n",
    "    print('Sample {}:'.format(i))\n",
    "    print(dataset['data'][i]+'\\n')\n",
    "    print('Lable {}: {} - {}'.format(i, dataset['target'][i], dataset['target_names'][dataset['target'][i]]))\n",
    "    print('-----------------------------------------------------------------\\n')"
   ]
  },
  {
   "cell_type": "code",
   "execution_count": 4,
   "id": "2bf19920",
   "metadata": {},
   "outputs": [
    {
     "data": {
      "text/html": [
       "<div>\n",
       "<style scoped>\n",
       "    .dataframe tbody tr th:only-of-type {\n",
       "        vertical-align: middle;\n",
       "    }\n",
       "\n",
       "    .dataframe tbody tr th {\n",
       "        vertical-align: top;\n",
       "    }\n",
       "\n",
       "    .dataframe thead th {\n",
       "        text-align: right;\n",
       "    }\n",
       "</style>\n",
       "<table border=\"1\" class=\"dataframe\">\n",
       "  <thead>\n",
       "    <tr style=\"text-align: right;\">\n",
       "      <th></th>\n",
       "      <th>corpus</th>\n",
       "      <th>label</th>\n",
       "      <th>label_name</th>\n",
       "    </tr>\n",
       "  </thead>\n",
       "  <tbody>\n",
       "    <tr>\n",
       "      <th>0</th>\n",
       "      <td>\\nThey tried their best not to show it, believ...</td>\n",
       "      <td>4</td>\n",
       "      <td>rec.sport.hockey</td>\n",
       "    </tr>\n",
       "    <tr>\n",
       "      <th>1</th>\n",
       "      <td>\\nStankiewicz?  I doubt it.\\n\\nKoufax was one ...</td>\n",
       "      <td>3</td>\n",
       "      <td>rec.sport.baseball</td>\n",
       "    </tr>\n",
       "    <tr>\n",
       "      <th>2</th>\n",
       "      <td>\\n[deletia- and so on]\\n\\nI seem to have been ...</td>\n",
       "      <td>5</td>\n",
       "      <td>soc.religion.christian</td>\n",
       "    </tr>\n",
       "    <tr>\n",
       "      <th>3</th>\n",
       "      <td>Excuse the sheer newbieness of this post, but ...</td>\n",
       "      <td>1</td>\n",
       "      <td>comp.graphics</td>\n",
       "    </tr>\n",
       "    <tr>\n",
       "      <th>4</th>\n",
       "      <td>==============================================...</td>\n",
       "      <td>1</td>\n",
       "      <td>comp.graphics</td>\n",
       "    </tr>\n",
       "  </tbody>\n",
       "</table>\n",
       "</div>"
      ],
      "text/plain": [
       "                                              corpus  label  \\\n",
       "0  \\nThey tried their best not to show it, believ...      4   \n",
       "1  \\nStankiewicz?  I doubt it.\\n\\nKoufax was one ...      3   \n",
       "2  \\n[deletia- and so on]\\n\\nI seem to have been ...      5   \n",
       "3  Excuse the sheer newbieness of this post, but ...      1   \n",
       "4  ==============================================...      1   \n",
       "\n",
       "               label_name  \n",
       "0        rec.sport.hockey  \n",
       "1      rec.sport.baseball  \n",
       "2  soc.religion.christian  \n",
       "3           comp.graphics  \n",
       "4           comp.graphics  "
      ]
     },
     "execution_count": 4,
     "metadata": {},
     "output_type": "execute_result"
    }
   ],
   "source": [
    "df = pd.DataFrame()\n",
    "df['corpus'], df['label'], df['label_name'] = [dataset.data, dataset.target, [dataset.target_names[target] for target in dataset.target]]\n",
    "df.head()"
   ]
  },
  {
   "cell_type": "markdown",
   "id": "59954bcc",
   "metadata": {},
   "source": [
    "Clean and tokenize corpus"
   ]
  },
  {
   "cell_type": "code",
   "execution_count": 5,
   "id": "b9edbfa9",
   "metadata": {},
   "outputs": [],
   "source": [
    "def preprocess_text(text: str) -> str:\n",
    "    # remove links\n",
    "    text = re.sub(r\"http\\S+\", \"\", text)\n",
    "    # remove special chars and numbers\n",
    "    text = re.sub(\"[^A-Za-z]+\", \" \", text)\n",
    "    # tokenize and remove stopwords\n",
    "    tokens = nltk.word_tokenize(text)\n",
    "    tokens = [w for w in tokens if not w.lower() in stopwords.words(\"english\")]\n",
    "    text = \" \".join(tokens)\n",
    "    text = text.lower().strip()\n",
    "    return text"
   ]
  },
  {
   "cell_type": "code",
   "execution_count": 6,
   "id": "58ff979e",
   "metadata": {},
   "outputs": [
    {
     "data": {
      "text/html": [
       "<div>\n",
       "<style scoped>\n",
       "    .dataframe tbody tr th:only-of-type {\n",
       "        vertical-align: middle;\n",
       "    }\n",
       "\n",
       "    .dataframe tbody tr th {\n",
       "        vertical-align: top;\n",
       "    }\n",
       "\n",
       "    .dataframe thead th {\n",
       "        text-align: right;\n",
       "    }\n",
       "</style>\n",
       "<table border=\"1\" class=\"dataframe\">\n",
       "  <thead>\n",
       "    <tr style=\"text-align: right;\">\n",
       "      <th></th>\n",
       "      <th>corpus</th>\n",
       "      <th>label</th>\n",
       "      <th>label_name</th>\n",
       "      <th>cleaned_corpus</th>\n",
       "    </tr>\n",
       "  </thead>\n",
       "  <tbody>\n",
       "    <tr>\n",
       "      <th>0</th>\n",
       "      <td>\\nThey tried their best not to show it, believ...</td>\n",
       "      <td>4</td>\n",
       "      <td>rec.sport.hockey</td>\n",
       "      <td>tried best show believe surprised find sprint ...</td>\n",
       "    </tr>\n",
       "    <tr>\n",
       "      <th>1</th>\n",
       "      <td>\\nStankiewicz?  I doubt it.\\n\\nKoufax was one ...</td>\n",
       "      <td>3</td>\n",
       "      <td>rec.sport.baseball</td>\n",
       "      <td>stankiewicz doubt koufax one two jewish hofs h...</td>\n",
       "    </tr>\n",
       "    <tr>\n",
       "      <th>2</th>\n",
       "      <td>\\n[deletia- and so on]\\n\\nI seem to have been ...</td>\n",
       "      <td>5</td>\n",
       "      <td>soc.religion.christian</td>\n",
       "      <td>deletia seem rather unclear asking please show...</td>\n",
       "    </tr>\n",
       "    <tr>\n",
       "      <th>3</th>\n",
       "      <td>Excuse the sheer newbieness of this post, but ...</td>\n",
       "      <td>1</td>\n",
       "      <td>comp.graphics</td>\n",
       "      <td>excuse sheer newbieness post looking decent pa...</td>\n",
       "    </tr>\n",
       "    <tr>\n",
       "      <th>4</th>\n",
       "      <td>==============================================...</td>\n",
       "      <td>1</td>\n",
       "      <td>comp.graphics</td>\n",
       "      <td></td>\n",
       "    </tr>\n",
       "  </tbody>\n",
       "</table>\n",
       "</div>"
      ],
      "text/plain": [
       "                                              corpus  label  \\\n",
       "0  \\nThey tried their best not to show it, believ...      4   \n",
       "1  \\nStankiewicz?  I doubt it.\\n\\nKoufax was one ...      3   \n",
       "2  \\n[deletia- and so on]\\n\\nI seem to have been ...      5   \n",
       "3  Excuse the sheer newbieness of this post, but ...      1   \n",
       "4  ==============================================...      1   \n",
       "\n",
       "               label_name                                     cleaned_corpus  \n",
       "0        rec.sport.hockey  tried best show believe surprised find sprint ...  \n",
       "1      rec.sport.baseball  stankiewicz doubt koufax one two jewish hofs h...  \n",
       "2  soc.religion.christian  deletia seem rather unclear asking please show...  \n",
       "3           comp.graphics  excuse sheer newbieness post looking decent pa...  \n",
       "4           comp.graphics                                                     "
      ]
     },
     "execution_count": 6,
     "metadata": {},
     "output_type": "execute_result"
    }
   ],
   "source": [
    "df['cleaned_corpus'] = df['corpus'].apply(lambda x: preprocess_text(x))\n",
    "df.head()"
   ]
  },
  {
   "cell_type": "markdown",
   "id": "1f09561f",
   "metadata": {},
   "source": [
    "TF-IDF Vertorization"
   ]
  },
  {
   "cell_type": "code",
   "execution_count": 7,
   "id": "25aa8f9e",
   "metadata": {},
   "outputs": [],
   "source": [
    "vectorizer = TfidfVectorizer(sublinear_tf=True, min_df=5, max_df=0.95)\n",
    "# sparse matrix\n",
    "vec = vectorizer.fit_transform(df['cleaned_corpus'])"
   ]
  },
  {
   "cell_type": "markdown",
   "id": "9b70fa29",
   "metadata": {},
   "source": [
    "K-Means Clustering"
   ]
  },
  {
   "cell_type": "code",
   "execution_count": 8,
   "id": "a1bed348",
   "metadata": {},
   "outputs": [
    {
     "name": "stderr",
     "output_type": "stream",
     "text": [
      "C:\\Users\\SegFault\\anaconda3\\envs\\meta\\lib\\site-packages\\sklearn\\cluster\\_kmeans.py:870: FutureWarning: The default value of `n_init` will change from 10 to 'auto' in 1.4. Set the value of `n_init` explicitly to suppress the warning\n",
      "  warnings.warn(\n"
     ]
    },
    {
     "data": {
      "text/html": [
       "<style>#sk-container-id-1 {color: black;background-color: white;}#sk-container-id-1 pre{padding: 0;}#sk-container-id-1 div.sk-toggleable {background-color: white;}#sk-container-id-1 label.sk-toggleable__label {cursor: pointer;display: block;width: 100%;margin-bottom: 0;padding: 0.3em;box-sizing: border-box;text-align: center;}#sk-container-id-1 label.sk-toggleable__label-arrow:before {content: \"▸\";float: left;margin-right: 0.25em;color: #696969;}#sk-container-id-1 label.sk-toggleable__label-arrow:hover:before {color: black;}#sk-container-id-1 div.sk-estimator:hover label.sk-toggleable__label-arrow:before {color: black;}#sk-container-id-1 div.sk-toggleable__content {max-height: 0;max-width: 0;overflow: hidden;text-align: left;background-color: #f0f8ff;}#sk-container-id-1 div.sk-toggleable__content pre {margin: 0.2em;color: black;border-radius: 0.25em;background-color: #f0f8ff;}#sk-container-id-1 input.sk-toggleable__control:checked~div.sk-toggleable__content {max-height: 200px;max-width: 100%;overflow: auto;}#sk-container-id-1 input.sk-toggleable__control:checked~label.sk-toggleable__label-arrow:before {content: \"▾\";}#sk-container-id-1 div.sk-estimator input.sk-toggleable__control:checked~label.sk-toggleable__label {background-color: #d4ebff;}#sk-container-id-1 div.sk-label input.sk-toggleable__control:checked~label.sk-toggleable__label {background-color: #d4ebff;}#sk-container-id-1 input.sk-hidden--visually {border: 0;clip: rect(1px 1px 1px 1px);clip: rect(1px, 1px, 1px, 1px);height: 1px;margin: -1px;overflow: hidden;padding: 0;position: absolute;width: 1px;}#sk-container-id-1 div.sk-estimator {font-family: monospace;background-color: #f0f8ff;border: 1px dotted black;border-radius: 0.25em;box-sizing: border-box;margin-bottom: 0.5em;}#sk-container-id-1 div.sk-estimator:hover {background-color: #d4ebff;}#sk-container-id-1 div.sk-parallel-item::after {content: \"\";width: 100%;border-bottom: 1px solid gray;flex-grow: 1;}#sk-container-id-1 div.sk-label:hover label.sk-toggleable__label {background-color: #d4ebff;}#sk-container-id-1 div.sk-serial::before {content: \"\";position: absolute;border-left: 1px solid gray;box-sizing: border-box;top: 0;bottom: 0;left: 50%;z-index: 0;}#sk-container-id-1 div.sk-serial {display: flex;flex-direction: column;align-items: center;background-color: white;padding-right: 0.2em;padding-left: 0.2em;position: relative;}#sk-container-id-1 div.sk-item {position: relative;z-index: 1;}#sk-container-id-1 div.sk-parallel {display: flex;align-items: stretch;justify-content: center;background-color: white;position: relative;}#sk-container-id-1 div.sk-item::before, #sk-container-id-1 div.sk-parallel-item::before {content: \"\";position: absolute;border-left: 1px solid gray;box-sizing: border-box;top: 0;bottom: 0;left: 50%;z-index: -1;}#sk-container-id-1 div.sk-parallel-item {display: flex;flex-direction: column;z-index: 1;position: relative;background-color: white;}#sk-container-id-1 div.sk-parallel-item:first-child::after {align-self: flex-end;width: 50%;}#sk-container-id-1 div.sk-parallel-item:last-child::after {align-self: flex-start;width: 50%;}#sk-container-id-1 div.sk-parallel-item:only-child::after {width: 0;}#sk-container-id-1 div.sk-dashed-wrapped {border: 1px dashed gray;margin: 0 0.4em 0.5em 0.4em;box-sizing: border-box;padding-bottom: 0.4em;background-color: white;}#sk-container-id-1 div.sk-label label {font-family: monospace;font-weight: bold;display: inline-block;line-height: 1.2em;}#sk-container-id-1 div.sk-label-container {text-align: center;}#sk-container-id-1 div.sk-container {/* jupyter's `normalize.less` sets `[hidden] { display: none; }` but bootstrap.min.css set `[hidden] { display: none !important; }` so we also need the `!important` here to be able to override the default hidden behavior on the sphinx rendered scikit-learn.org. See: https://github.com/scikit-learn/scikit-learn/issues/21755 */display: inline-block !important;position: relative;}#sk-container-id-1 div.sk-text-repr-fallback {display: none;}</style><div id=\"sk-container-id-1\" class=\"sk-top-container\"><div class=\"sk-text-repr-fallback\"><pre>KMeans(n_clusters=3, random_state=42)</pre><b>In a Jupyter environment, please rerun this cell to show the HTML representation or trust the notebook. <br />On GitHub, the HTML representation is unable to render, please try loading this page with nbviewer.org.</b></div><div class=\"sk-container\" hidden><div class=\"sk-item\"><div class=\"sk-estimator sk-toggleable\"><input class=\"sk-toggleable__control sk-hidden--visually\" id=\"sk-estimator-id-1\" type=\"checkbox\" checked><label for=\"sk-estimator-id-1\" class=\"sk-toggleable__label sk-toggleable__label-arrow\">KMeans</label><div class=\"sk-toggleable__content\"><pre>KMeans(n_clusters=3, random_state=42)</pre></div></div></div></div></div>"
      ],
      "text/plain": [
       "KMeans(n_clusters=3, random_state=42)"
      ]
     },
     "execution_count": 8,
     "metadata": {},
     "output_type": "execute_result"
    }
   ],
   "source": [
    "# since we know that there should be 3 categories\n",
    "kmeans = KMeans(n_clusters=3, random_state=42)\n",
    "kmeans.fit(vec)"
   ]
  },
  {
   "cell_type": "code",
   "execution_count": 9,
   "id": "222f57ca",
   "metadata": {},
   "outputs": [
    {
     "data": {
      "text/html": [
       "<div>\n",
       "<style scoped>\n",
       "    .dataframe tbody tr th:only-of-type {\n",
       "        vertical-align: middle;\n",
       "    }\n",
       "\n",
       "    .dataframe tbody tr th {\n",
       "        vertical-align: top;\n",
       "    }\n",
       "\n",
       "    .dataframe thead th {\n",
       "        text-align: right;\n",
       "    }\n",
       "</style>\n",
       "<table border=\"1\" class=\"dataframe\">\n",
       "  <thead>\n",
       "    <tr style=\"text-align: right;\">\n",
       "      <th></th>\n",
       "      <th>corpus</th>\n",
       "      <th>label</th>\n",
       "      <th>label_name</th>\n",
       "      <th>cleaned_corpus</th>\n",
       "      <th>predicted_cluster_label</th>\n",
       "    </tr>\n",
       "  </thead>\n",
       "  <tbody>\n",
       "    <tr>\n",
       "      <th>0</th>\n",
       "      <td>\\nThey tried their best not to show it, believ...</td>\n",
       "      <td>4</td>\n",
       "      <td>rec.sport.hockey</td>\n",
       "      <td>tried best show believe surprised find sprint ...</td>\n",
       "      <td>2</td>\n",
       "    </tr>\n",
       "    <tr>\n",
       "      <th>1</th>\n",
       "      <td>\\nStankiewicz?  I doubt it.\\n\\nKoufax was one ...</td>\n",
       "      <td>3</td>\n",
       "      <td>rec.sport.baseball</td>\n",
       "      <td>stankiewicz doubt koufax one two jewish hofs h...</td>\n",
       "      <td>2</td>\n",
       "    </tr>\n",
       "    <tr>\n",
       "      <th>2</th>\n",
       "      <td>\\n[deletia- and so on]\\n\\nI seem to have been ...</td>\n",
       "      <td>5</td>\n",
       "      <td>soc.religion.christian</td>\n",
       "      <td>deletia seem rather unclear asking please show...</td>\n",
       "      <td>0</td>\n",
       "    </tr>\n",
       "    <tr>\n",
       "      <th>3</th>\n",
       "      <td>Excuse the sheer newbieness of this post, but ...</td>\n",
       "      <td>1</td>\n",
       "      <td>comp.graphics</td>\n",
       "      <td>excuse sheer newbieness post looking decent pa...</td>\n",
       "      <td>1</td>\n",
       "    </tr>\n",
       "    <tr>\n",
       "      <th>4</th>\n",
       "      <td>==============================================...</td>\n",
       "      <td>1</td>\n",
       "      <td>comp.graphics</td>\n",
       "      <td></td>\n",
       "      <td>2</td>\n",
       "    </tr>\n",
       "  </tbody>\n",
       "</table>\n",
       "</div>"
      ],
      "text/plain": [
       "                                              corpus  label  \\\n",
       "0  \\nThey tried their best not to show it, believ...      4   \n",
       "1  \\nStankiewicz?  I doubt it.\\n\\nKoufax was one ...      3   \n",
       "2  \\n[deletia- and so on]\\n\\nI seem to have been ...      5   \n",
       "3  Excuse the sheer newbieness of this post, but ...      1   \n",
       "4  ==============================================...      1   \n",
       "\n",
       "               label_name                                     cleaned_corpus  \\\n",
       "0        rec.sport.hockey  tried best show believe surprised find sprint ...   \n",
       "1      rec.sport.baseball  stankiewicz doubt koufax one two jewish hofs h...   \n",
       "2  soc.religion.christian  deletia seem rather unclear asking please show...   \n",
       "3           comp.graphics  excuse sheer newbieness post looking decent pa...   \n",
       "4           comp.graphics                                                      \n",
       "\n",
       "   predicted_cluster_label  \n",
       "0                        2  \n",
       "1                        2  \n",
       "2                        0  \n",
       "3                        1  \n",
       "4                        2  "
      ]
     },
     "execution_count": 9,
     "metadata": {},
     "output_type": "execute_result"
    }
   ],
   "source": [
    "df['predicted_cluster_label'] = kmeans.labels_\n",
    "df.head()"
   ]
  },
  {
   "cell_type": "markdown",
   "id": "ea898d02",
   "metadata": {},
   "source": [
    "Check the top 10 keywords for each cluster"
   ]
  },
  {
   "cell_type": "code",
   "execution_count": 12,
   "id": "43446d1d",
   "metadata": {},
   "outputs": [
    {
     "name": "stdout",
     "output_type": "stream",
     "text": [
      "\n",
      "Cluster 0\n",
      "christians,say,think,bible,believe,jesus,one,would,people,god\n",
      "\n",
      "Cluster 1\n",
      "graphics,dos,know,use,program,anyone,files,file,thanks,windows\n",
      "\n",
      "Cluster 2\n",
      "good,last,like,games,would,year,one,think,team,game\n"
     ]
    }
   ],
   "source": [
    "def get_top_keywords(n_terms):\n",
    "    \"\"\"This function returns the keywords for each centroid of the KMeans\"\"\"\n",
    "    df = pd.DataFrame(vec.todense()).groupby(kmeans.labels_).mean() # groups the TF-IDF vector by cluster\n",
    "    terms = vectorizer.get_feature_names_out() # access tf-idf terms\n",
    "    for i,r in df.iterrows():\n",
    "        print('\\nCluster {}'.format(i))\n",
    "        print(','.join([terms[t] for t in np.argsort(r)[-n_terms:]])) # for each row of the dataframe, find the n terms that have the highest tf idf score\n",
    "            \n",
    "get_top_keywords(10)"
   ]
  },
  {
   "cell_type": "markdown",
   "id": "5762c360",
   "metadata": {},
   "source": [
    "By looking at the keywords we can see that cluster 0 is about religion news, cluster 1 is about technology news, and cluster 2 is about sport news. Now we can create a mapping between the original lable and the cluster predicted label\n",
    "\n",
    "|Original label   |Label name   |Cluster label   |\n",
    "|:---:|:---|:---|\n",
    "|0   |alt.atheism   |0   |\n",
    "|1   |comp.graphics   |1   |\n",
    "|2   |comp.os.ms-windows.misc   |1  |\n",
    "|3   |rec.sport.baseball   |2   |\n",
    "|4   |rec.sport.hockey   |2   |\n",
    "|5   |soc.religion.christian   |0   |"
   ]
  },
  {
   "cell_type": "code",
   "execution_count": 13,
   "id": "9766812c",
   "metadata": {},
   "outputs": [
    {
     "data": {
      "text/html": [
       "<div>\n",
       "<style scoped>\n",
       "    .dataframe tbody tr th:only-of-type {\n",
       "        vertical-align: middle;\n",
       "    }\n",
       "\n",
       "    .dataframe tbody tr th {\n",
       "        vertical-align: top;\n",
       "    }\n",
       "\n",
       "    .dataframe thead th {\n",
       "        text-align: right;\n",
       "    }\n",
       "</style>\n",
       "<table border=\"1\" class=\"dataframe\">\n",
       "  <thead>\n",
       "    <tr style=\"text-align: right;\">\n",
       "      <th></th>\n",
       "      <th>corpus</th>\n",
       "      <th>label</th>\n",
       "      <th>label_name</th>\n",
       "      <th>cleaned_corpus</th>\n",
       "      <th>predicted_cluster_label</th>\n",
       "      <th>cluster_label</th>\n",
       "    </tr>\n",
       "  </thead>\n",
       "  <tbody>\n",
       "    <tr>\n",
       "      <th>0</th>\n",
       "      <td>\\nThey tried their best not to show it, believ...</td>\n",
       "      <td>4</td>\n",
       "      <td>rec.sport.hockey</td>\n",
       "      <td>tried best show believe surprised find sprint ...</td>\n",
       "      <td>2</td>\n",
       "      <td>2</td>\n",
       "    </tr>\n",
       "    <tr>\n",
       "      <th>1</th>\n",
       "      <td>\\nStankiewicz?  I doubt it.\\n\\nKoufax was one ...</td>\n",
       "      <td>3</td>\n",
       "      <td>rec.sport.baseball</td>\n",
       "      <td>stankiewicz doubt koufax one two jewish hofs h...</td>\n",
       "      <td>2</td>\n",
       "      <td>2</td>\n",
       "    </tr>\n",
       "    <tr>\n",
       "      <th>2</th>\n",
       "      <td>\\n[deletia- and so on]\\n\\nI seem to have been ...</td>\n",
       "      <td>5</td>\n",
       "      <td>soc.religion.christian</td>\n",
       "      <td>deletia seem rather unclear asking please show...</td>\n",
       "      <td>0</td>\n",
       "      <td>0</td>\n",
       "    </tr>\n",
       "    <tr>\n",
       "      <th>3</th>\n",
       "      <td>Excuse the sheer newbieness of this post, but ...</td>\n",
       "      <td>1</td>\n",
       "      <td>comp.graphics</td>\n",
       "      <td>excuse sheer newbieness post looking decent pa...</td>\n",
       "      <td>1</td>\n",
       "      <td>1</td>\n",
       "    </tr>\n",
       "    <tr>\n",
       "      <th>4</th>\n",
       "      <td>==============================================...</td>\n",
       "      <td>1</td>\n",
       "      <td>comp.graphics</td>\n",
       "      <td></td>\n",
       "      <td>2</td>\n",
       "      <td>1</td>\n",
       "    </tr>\n",
       "  </tbody>\n",
       "</table>\n",
       "</div>"
      ],
      "text/plain": [
       "                                              corpus  label  \\\n",
       "0  \\nThey tried their best not to show it, believ...      4   \n",
       "1  \\nStankiewicz?  I doubt it.\\n\\nKoufax was one ...      3   \n",
       "2  \\n[deletia- and so on]\\n\\nI seem to have been ...      5   \n",
       "3  Excuse the sheer newbieness of this post, but ...      1   \n",
       "4  ==============================================...      1   \n",
       "\n",
       "               label_name                                     cleaned_corpus  \\\n",
       "0        rec.sport.hockey  tried best show believe surprised find sprint ...   \n",
       "1      rec.sport.baseball  stankiewicz doubt koufax one two jewish hofs h...   \n",
       "2  soc.religion.christian  deletia seem rather unclear asking please show...   \n",
       "3           comp.graphics  excuse sheer newbieness post looking decent pa...   \n",
       "4           comp.graphics                                                      \n",
       "\n",
       "   predicted_cluster_label  cluster_label  \n",
       "0                        2              2  \n",
       "1                        2              2  \n",
       "2                        0              0  \n",
       "3                        1              1  \n",
       "4                        2              1  "
      ]
     },
     "execution_count": 13,
     "metadata": {},
     "output_type": "execute_result"
    }
   ],
   "source": [
    "def map_label(origin_label):\n",
    "    if origin_label == 0 or origin_label == 5:\n",
    "        return 0\n",
    "    elif origin_label == 1 or origin_label == 2:\n",
    "        return 1\n",
    "    else:\n",
    "        return 2\n",
    "df['cluster_label'] = df['label'].apply(lambda x: map_label(x))\n",
    "df.head()"
   ]
  },
  {
   "cell_type": "markdown",
   "id": "b800a4be",
   "metadata": {},
   "source": [
    "Visualize some miss classification for each cluster"
   ]
  },
  {
   "cell_type": "code",
   "execution_count": 29,
   "id": "43f7b556",
   "metadata": {},
   "outputs": [
    {
     "name": "stdout",
     "output_type": "stream",
     "text": [
      "Cluster 0 false positive\n",
      "\n",
      "\n",
      "Are most players who come up young always good when they're young, or\n",
      "later?\n",
      "\n",
      "\n",
      "Damn.  I was afraid you would say that!\n",
      "\n",
      "\n",
      "Well, perhaps if the Braves had no one else worth playing this year it\n",
      "would be Lopez in there.  But they do have others worth playing, at\n",
      "least in *their* opinion.  And I happen to agree.\n",
      "\n",
      "\n",
      "I can believe that.  I'm a newbie here, so I'll take your word.  But\n",
      "Alomar *is* a fine defensive catcher, which was my statement above.\n",
      "That is a solid reason for bringing him up at a tender age, as long\n",
      "as they feel he can also hit a bit.  Lopez does not have such a\n",
      "consensus about his defensive prowess, and imho that is enough to\n",
      "give him that dreaded \"seasoning\".\n",
      "\n",
      "\n",
      "Sorry.  New.  Don't know Nichols' Law.  Don't believe in catchers'\n",
      "era.  But I am interested in pitchers' eras with different catchers.\n",
      "Any info on that?\n",
      "\n",
      "\n",
      "In other words, we know more than they do, so the only logic behind \n",
      "a different decision than we would make must be financial.  I presume\n",
      "we feel this way about other franchises than Atlanta, no?\n",
      "\n",
      "\n",
      "Well if it does make organizational sense, one can hardly fault them\n",
      "for their decisions.  I mean, please don't tell me how to run my\n",
      "business.  Especially when I'm being successful.\n",
      "\n",
      "\n",
      "I'm sure you could be right.  You could also be smoking some illegal\n",
      "substance.\n",
      "\n",
      "(Hey.  That's a joke.  Don't get offended.  Please.)\n",
      "\n",
      "Well, I can't cite anyone's ethical rectitude because I don't know\n",
      "what it means.  :)\n",
      "\n",
      "But again, if it makes organizational sense, then so be it.  Baseball\n",
      "is a business, and if there is a solid business reason for keeping\n",
      "Lopez on the farm then that's what the Braves *should* do.\n",
      "\n",
      "I happen to believe that it's a baseball decision.  While you from\n",
      "your armchair may disagee, I don't.  I think there is a lot of\n",
      "evidence to suggest the decision they made.  I predicted it among\n",
      "large guffaws from several at the start of spring training.  I\n",
      "think it is a very *normal* decision to have made.  It is certainly\n",
      "more reversible than to have started Lopez in the bigs and have\n",
      "released one of their catchers.  Sure, it may be conservative.  It\n",
      "may also be logical.  I don't know what ethics have to do with it.\n",
      "Seems like pretty good common sense to me.\n",
      "\n",
      "--\tThe Beastmaster\n",
      "\n",
      "\n",
      "Label: 2\n",
      "Predict: 0\n",
      "Cluster 0 false negative\n",
      "\n",
      "As far as I know, tigers are not sentient.  If I were pushed into a pool with\n",
      "some dolphins and they attacked me, I might be inclined to blame the dolphins\n",
      "rather than the person doing the pushing, as (a) dolphins are not usually\n",
      "aggressive and (b) they seem to have well-developed brains and a capacity for\n",
      "abstract thought.\n",
      "\n",
      "As a matter of fact, tigers rarely attack humans unless the human provokes\n",
      "them.  Of course, if they are in a cage which is far too small, that might\n",
      "count as provocation...\n",
      "\n",
      "Label: 0\n",
      "Predict: 2\n"
     ]
    }
   ],
   "source": [
    "def vis_miss_classification(cluster_id):\n",
    "    false_positive = df[(df['predicted_cluster_label']==cluster_id) & (df['cluster_label'] != df['predicted_cluster_label'])]\n",
    "    false_negative = df[(df['cluster_label']==cluster_id) & (df['cluster_label'] != df['predicted_cluster_label'])]\n",
    "    print('Cluster {} false positive'.format(cluster_id))\n",
    "    for i in range(1):\n",
    "        print(false_positive.iloc[i]['corpus'])\n",
    "        print('Label: {}'.format(false_positive.iloc[i]['cluster_label']))\n",
    "        print('Predict: {}'.format(false_positive.iloc[i]['predicted_cluster_label']))\n",
    "    print('Cluster {} false negative'.format(cluster_id))\n",
    "    for i in range(1):\n",
    "        print(false_negative.iloc[i]['corpus'])\n",
    "        print('Label: {}'.format(false_negative.iloc[i]['cluster_label']))\n",
    "        print('Predict: {}'.format(false_negative.iloc[i]['predicted_cluster_label']))\n",
    "vis_miss_classification(0)"
   ]
  },
  {
   "cell_type": "code",
   "execution_count": 30,
   "id": "6410e559",
   "metadata": {},
   "outputs": [
    {
     "name": "stdout",
     "output_type": "stream",
     "text": [
      "Cluster 1 false positive\n",
      "Would someone please give me the address for Texas Ranger\n",
      "ticket orders. Thanks very much.\n",
      "Label: 2\n",
      "Predict: 1\n",
      "Cluster 1 false negative\n",
      "==============================================================================\n",
      "\n",
      "Label: 1\n",
      "Predict: 2\n"
     ]
    }
   ],
   "source": [
    "vis_miss_classification(1)"
   ]
  },
  {
   "cell_type": "code",
   "execution_count": 31,
   "id": "ee832988",
   "metadata": {},
   "outputs": [
    {
     "name": "stdout",
     "output_type": "stream",
     "text": [
      "Cluster 2 false positive\n",
      "==============================================================================\n",
      "\n",
      "Label: 1\n",
      "Predict: 2\n",
      "Cluster 2 false negative\n",
      "Would someone please give me the address for Texas Ranger\n",
      "ticket orders. Thanks very much.\n",
      "Label: 2\n",
      "Predict: 1\n"
     ]
    }
   ],
   "source": [
    "vis_miss_classification(2)"
   ]
  },
  {
   "cell_type": "markdown",
   "id": "eb0a6081",
   "metadata": {},
   "source": [
    "Calculate F1 score"
   ]
  },
  {
   "cell_type": "code",
   "execution_count": 33,
   "id": "f06841f1",
   "metadata": {},
   "outputs": [
    {
     "name": "stdout",
     "output_type": "stream",
     "text": [
      "0.7796609030022735\n"
     ]
    }
   ],
   "source": [
    "f1_score = f1_score(df['cluster_label'], df['predicted_cluster_label'], average='macro')\n",
    "print(f1_score)"
   ]
  },
  {
   "cell_type": "markdown",
   "id": "14acd378",
   "metadata": {},
   "source": [
    "# Find optimal number of Clusters"
   ]
  },
  {
   "cell_type": "markdown",
   "id": "fca10243",
   "metadata": {},
   "source": [
    "In this testing data set, we already know the number of clusters. However, in our project, we only have a very rough estimate of the number of categories. Therefore, we need to find a way to determine number of clusters. Here, I will use the 'elbow' method."
   ]
  },
  {
   "cell_type": "code",
   "execution_count": 39,
   "id": "f7f2a753",
   "metadata": {},
   "outputs": [
    {
     "name": "stdout",
     "output_type": "stream",
     "text": [
      "Fit 2 clusters\n",
      "Fit 3 clusters\n",
      "Fit 4 clusters\n",
      "Fit 5 clusters\n",
      "Fit 6 clusters\n",
      "Fit 7 clusters\n",
      "Fit 8 clusters\n",
      "Fit 9 clusters\n",
      "Fit 10 clusters\n"
     ]
    },
    {
     "data": {
      "image/png": "[encoded data removed]",
      "text/plain": [
       "<Figure size 640x480 with 1 Axes>"
      ]
     },
     "metadata": {},
     "output_type": "display_data"
    }
   ],
   "source": [
    "def find_optimal_clusters(data, max_k):\n",
    "    iters = range(2, max_k+1, 1)\n",
    "    \n",
    "    sse = []\n",
    "    for k in iters:\n",
    "        sse.append(KMeans(n_clusters=k, random_state=42).fit(data).inertia_)\n",
    "        print('Fit {} clusters'.format(k))\n",
    "        \n",
    "    f, ax = plt.subplots(1, 1)\n",
    "    ax.plot(iters, sse, marker='o')\n",
    "    ax.set_xlabel('Cluster Centers')\n",
    "    ax.set_xticks(iters)\n",
    "    ax.set_xticklabels(iters)\n",
    "    ax.set_ylabel('SSE')\n",
    "    ax.set_title('SSE by Cluster Center Plot')\n",
    "    \n",
    "find_optimal_clusters(vec, 10)"
   ]
  },
  {
   "cell_type": "markdown",
   "id": "c0076e56",
   "metadata": {},
   "source": [
    "We can see that 6 should be the optimal number of clusters which matches our inital input data classes"
   ]
  }
 ],
 "metadata": {
  "kernelspec": {
   "display_name": "Python [conda env:meta]",
   "language": "python",
   "name": "conda-env-meta-py"
  },
  "language_info": {
   "codemirror_mode": {
    "name": "ipython",
    "version": 3
   },
   "file_extension": ".py",
   "mimetype": "text/x-python",
   "name": "python",
   "nbconvert_exporter": "python",
   "pygments_lexer": "ipython3",
   "version": "3.9.17"
  }
 },
 "nbformat": 4,
 "nbformat_minor": 5
}
